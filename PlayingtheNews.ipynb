{
 "cells": [
  {
   "cell_type": "code",
   "execution_count": 50,
   "id": "945f2f00",
   "metadata": {},
   "outputs": [],
   "source": [
    "import spotipy\n",
    "import webbrowser\n",
    "import json\n",
    "import urllib.request\n",
    "import geocoder\n",
    "from nltk.corpus import stopwords\n",
    "import spotipy.util as util\n",
    "import random"
   ]
  },
  {
   "cell_type": "code",
   "execution_count": 51,
   "id": "ed3a2a98",
   "metadata": {
    "scrolled": false
   },
   "outputs": [],
   "source": [
    "with open(\"news_key.txt\", \"r\") as file:\n",
    "    key = file.read()\n"
   ]
  },
  {
   "cell_type": "code",
   "execution_count": 52,
   "id": "ab4fcc3c",
   "metadata": {},
   "outputs": [],
   "source": [
    "country = 'us'\n",
    "url = ('https://newsapi.org/v2/top-headlines?country=' + country + '&apiKey=' + key)\n",
    "request = urllib.request.Request(url)\n",
    "response = urllib.request.urlopen(request)"
   ]
  },
  {
   "cell_type": "code",
   "execution_count": 53,
   "id": "7c5a3d44",
   "metadata": {},
   "outputs": [],
   "source": [
    "headlines = json.loads(response.read())\n"
   ]
  },
  {
   "cell_type": "code",
   "execution_count": 54,
   "id": "13c82ff7",
   "metadata": {},
   "outputs": [],
   "source": [
    "titles = []\n",
    "for headline in headlines['articles']:\n",
    "    titles.append(headline['title'])"
   ]
  },
  {
   "cell_type": "raw",
   "id": "305a6970",
   "metadata": {},
   "source": []
  },
  {
   "cell_type": "code",
   "execution_count": 55,
   "id": "6f37000f",
   "metadata": {},
   "outputs": [
    {
     "data": {
      "text/plain": [
       "['150+ best Cyber Monday deals of 2022 — from Amazon to Zappos - Yahoo Life',\n",
       " 'Pilot, passenger rescued from plane that crashed into power lines in Montgomery Co. - WTOP',\n",
       " \"Mauna Loa is erupting for the first time since 1984, prompting an ashfall advisory for Hawaii's Big Island - CNN\",\n",
       " 'Nearly 9 out of 10 covid deaths are people over 65 - The Washington Post',\n",
       " 'Police officer killed in CA after catfishing girl, killing family - USA TODAY',\n",
       " 'Eagles vs. Packers score, takeaways: Jalen Hurts dominates as Philly earns 10th win; Aaron Rodgers injured - CBS Sports',\n",
       " 'Apple to Lose 6 Million iPhone Pros From Tumult at China Plant - Bloomberg',\n",
       " \"Arkansas GOP governor says Trump's meeting with Holocaust denier is 'very troubling' and 'empowering' for extremism - CNN\",\n",
       " \"Helen Mirren and Harrison Ford star in explosive trailer for 'Yellowstone' prequel '1923' - CNN\",\n",
       " 'Green Sprouts issues recall for 10500 bottles and cups - WFAA',\n",
       " \"First lady Jill Biden chooses 'We the People' as theme for White House holiday decorations - CNN\",\n",
       " \"Bob Dylan apologises for machine-printed 'signatures' - BBC\",\n",
       " 'LIST: Houston school districts closed due to citywide boil water notice - KHOU.com',\n",
       " 'Improve memory as you age by eating more flavonols, study says - CNN',\n",
       " 'China says BBC reporter did not identify himself as a journalist - Reuters',\n",
       " 'Exclusive: U.S. weighs sending 100-mile strike weapon to Ukraine - Reuters',\n",
       " 'China eases COVID rules after protests, keeps wider strategy - The Associated Press - en Español',\n",
       " 'Kim Kardashian breaks silence on controversial Balenciaga kids ad campaign - Page Six']"
      ]
     },
     "execution_count": 55,
     "metadata": {},
     "output_type": "execute_result"
    }
   ],
   "source": [
    "titles"
   ]
  },
  {
   "cell_type": "code",
   "execution_count": 56,
   "id": "d987e15b",
   "metadata": {},
   "outputs": [],
   "source": [
    "list_of_words= []\n",
    "for title in titles:\n",
    "    for word in title.lower().split(' '):\n",
    "        if word not in stopwords.words('english') and word.isalpha():\n",
    "            list_of_words.append(word)"
   ]
  },
  {
   "cell_type": "code",
   "execution_count": 57,
   "id": "c528d55b",
   "metadata": {},
   "outputs": [
    {
     "data": {
      "text/plain": [
       "['best',\n",
       " 'cyber',\n",
       " 'monday',\n",
       " 'deals',\n",
       " 'amazon',\n",
       " 'zappos',\n",
       " 'yahoo',\n",
       " 'life',\n",
       " 'passenger',\n",
       " 'rescued',\n",
       " 'plane',\n",
       " 'crashed',\n",
       " 'power',\n",
       " 'lines',\n",
       " 'montgomery',\n",
       " 'wtop',\n",
       " 'mauna',\n",
       " 'loa',\n",
       " 'erupting',\n",
       " 'first',\n",
       " 'time',\n",
       " 'since',\n",
       " 'prompting',\n",
       " 'ashfall',\n",
       " 'advisory',\n",
       " 'big',\n",
       " 'island',\n",
       " 'cnn',\n",
       " 'nearly',\n",
       " 'covid',\n",
       " 'deaths',\n",
       " 'people',\n",
       " 'washington',\n",
       " 'post',\n",
       " 'police',\n",
       " 'officer',\n",
       " 'killed',\n",
       " 'ca',\n",
       " 'catfishing',\n",
       " 'killing',\n",
       " 'family',\n",
       " 'usa',\n",
       " 'today',\n",
       " 'eagles',\n",
       " 'packers',\n",
       " 'jalen',\n",
       " 'hurts',\n",
       " 'dominates',\n",
       " 'philly',\n",
       " 'earns',\n",
       " 'aaron',\n",
       " 'rodgers',\n",
       " 'injured',\n",
       " 'cbs',\n",
       " 'sports',\n",
       " 'apple',\n",
       " 'lose',\n",
       " 'million',\n",
       " 'iphone',\n",
       " 'pros',\n",
       " 'tumult',\n",
       " 'china',\n",
       " 'plant',\n",
       " 'bloomberg',\n",
       " 'arkansas',\n",
       " 'gop',\n",
       " 'governor',\n",
       " 'says',\n",
       " 'meeting',\n",
       " 'holocaust',\n",
       " 'denier',\n",
       " 'extremism',\n",
       " 'cnn',\n",
       " 'helen',\n",
       " 'mirren',\n",
       " 'harrison',\n",
       " 'ford',\n",
       " 'star',\n",
       " 'explosive',\n",
       " 'trailer',\n",
       " 'prequel',\n",
       " 'cnn',\n",
       " 'green',\n",
       " 'sprouts',\n",
       " 'issues',\n",
       " 'recall',\n",
       " 'bottles',\n",
       " 'cups',\n",
       " 'wfaa',\n",
       " 'first',\n",
       " 'lady',\n",
       " 'jill',\n",
       " 'biden',\n",
       " 'chooses',\n",
       " 'theme',\n",
       " 'white',\n",
       " 'house',\n",
       " 'holiday',\n",
       " 'decorations',\n",
       " 'cnn',\n",
       " 'bob',\n",
       " 'dylan',\n",
       " 'apologises',\n",
       " 'bbc',\n",
       " 'houston',\n",
       " 'school',\n",
       " 'districts',\n",
       " 'closed',\n",
       " 'due',\n",
       " 'citywide',\n",
       " 'boil',\n",
       " 'water',\n",
       " 'notice',\n",
       " 'improve',\n",
       " 'memory',\n",
       " 'age',\n",
       " 'eating',\n",
       " 'study',\n",
       " 'says',\n",
       " 'cnn',\n",
       " 'china',\n",
       " 'says',\n",
       " 'bbc',\n",
       " 'reporter',\n",
       " 'identify',\n",
       " 'journalist',\n",
       " 'reuters',\n",
       " 'weighs',\n",
       " 'sending',\n",
       " 'strike',\n",
       " 'weapon',\n",
       " 'ukraine',\n",
       " 'reuters',\n",
       " 'china',\n",
       " 'eases',\n",
       " 'covid',\n",
       " 'rules',\n",
       " 'keeps',\n",
       " 'wider',\n",
       " 'strategy',\n",
       " 'associated',\n",
       " 'press',\n",
       " 'en',\n",
       " 'español',\n",
       " 'kim',\n",
       " 'kardashian',\n",
       " 'breaks',\n",
       " 'silence',\n",
       " 'controversial',\n",
       " 'balenciaga',\n",
       " 'kids',\n",
       " 'ad',\n",
       " 'campaign',\n",
       " 'page',\n",
       " 'six']"
      ]
     },
     "execution_count": 57,
     "metadata": {},
     "output_type": "execute_result"
    }
   ],
   "source": [
    "list_of_words"
   ]
  },
  {
   "cell_type": "code",
   "execution_count": 58,
   "id": "69a403e9",
   "metadata": {},
   "outputs": [],
   "source": [
    "# open file with keys and set the path to your credentials JSON file\n",
    "credentials = \"spotify_keys.json\"\n",
    "with open(credentials, \"r\") as keys:\n",
    "    api_tokens = json.load(keys)"
   ]
  },
  {
   "cell_type": "code",
   "execution_count": 59,
   "id": "dcc602a9",
   "metadata": {},
   "outputs": [],
   "source": [
    "# read the keys and assign each to a variable\n",
    "# A redirect URI, or reply URL, is the location where the authorization server sends the user once the app has been \n",
    "# successfully authorized and granted an authorization code or access token.\n",
    "client_id = api_tokens[\"client_id\"]\n",
    "client_secret = api_tokens[\"client_secret\"]\n",
    "redirectURI = api_tokens[\"redirect\"]\n",
    "username = api_tokens[\"username\"]"
   ]
  },
  {
   "cell_type": "code",
   "execution_count": 66,
   "id": "bd69df4c",
   "metadata": {},
   "outputs": [
    {
     "name": "stdout",
     "output_type": "stream",
     "text": [
      "Enter the URL you were redirected to: https://www.google.com/?code=AQDN5J4DYTyXuoPoQFqDVijZbk38ToXPyt9IWBDRUS6VcHAwyp_YMhFXk0FpO8Nub1elpQoe2GjDohhVVpaz_8k-EOUZFx3cZamGHgfFRVzXbODwRIjXqWEiFFbfacEd6KWPsrFTkz3gXy_gfiFIs6FmcFcgsgQ2c3GuVqv8qFC9y-e6WNRU4iLD0hvjXgdXDgFqioI7_xRSkxghEM8R3-1ZKQGkrjmNOyfNma3xueu4vaEXwKACRIBt1ldA2n6ik60IMWElrGRtiAMTnDZuWN1muS4V8dLi1ouep0Vth7I7sqvdpSWjfX1-\n"
     ]
    }
   ],
   "source": [
    "scope = 'user-read-private user-read-playback-state user-modify-playback-state playlist-modify-public user-library-read'\n",
    "token = util.prompt_for_user_token(username, scope, client_id=client_id,\n",
    "                           client_secret=client_secret,\n",
    "                           redirect_uri=redirectURI)"
   ]
  },
  {
   "cell_type": "code",
   "execution_count": 67,
   "id": "ab3f997d",
   "metadata": {},
   "outputs": [],
   "source": [
    "#print out token"
   ]
  },
  {
   "cell_type": "code",
   "execution_count": 68,
   "id": "28b34aac",
   "metadata": {},
   "outputs": [],
   "source": [
    "#create my Spotify object\n",
    "sp = spotipy.Spotify(auth=token)"
   ]
  },
  {
   "cell_type": "code",
   "execution_count": 69,
   "id": "d28e68d3",
   "metadata": {},
   "outputs": [
    {
     "name": "stdout",
     "output_type": "stream",
     "text": [
      "['spotify:track:1PfHPPvsEhhZbySGwquVst', 'spotify:track:1KpmJ0qMfQb96BqjJQwIap', 'spotify:track:6Wojj1I5egf6mzvjw3YTrx', 'spotify:track:1ko2lVN0vKGUl9zrU0qSlT', 'spotify:track:6tCLQ3LO1V9l6qdrrwdV6q', 'spotify:track:2h6CHoaE05q3xj4oZipQmJ', 'spotify:track:6lVZYPII9S2NdnYFxIvqge', 'spotify:track:4hhwyBxns9O6XIDQzL7bvF', 'spotify:track:1hwJKpe0BPUsq6UUrwBWTw', 'spotify:track:2cSdAkzAf2T4j4aLvx4LLz', 'spotify:track:4N7ERSgm2XUujwW2NST8rq', 'spotify:track:7w87IxuO7BDcJ3YUqCyMTT', 'spotify:track:7MVXZzxtB5n79LujrlCDQx', 'spotify:track:1ko2lVN0vKGUl9zrU0qSlT', 'spotify:track:1cSXzDZt8vzuUp2XREQEJN', 'spotify:track:40riOy7x9W7GXjyGp4pjAv', 'spotify:track:6HEw7G63WkDZbD3DGEBE7N', 'spotify:track:0hc44Di7G79vgVhwEwgZbJ', 'spotify:track:5S40mC9E1mv2peMgK7ri3C', 'spotify:track:0yc6Gst2xkRu0eMLeRMGCX', 'spotify:track:0GONea6G2XdnHWjNZd6zt3', 'spotify:track:3zdtYfRqOn1axEmHZTWivp', 'spotify:track:0MaQuFkyOav01SbKFARhQF', 'spotify:track:3MfbA1oqDBXC2teY5yFqR5', 'spotify:track:0tISaVqNERZVeiY3kAOKkK', 'spotify:track:27ZZdyTSQWI7Cug2d2PkqV', 'spotify:track:6lVZYPII9S2NdnYFxIvqge', 'spotify:track:1cSXzDZt8vzuUp2XREQEJN', 'spotify:track:3FMedgGsLUNwx8NciePFEK', 'spotify:track:1pm4Iy5y7ORtACx48HINnu', 'spotify:track:4N7ERSgm2XUujwW2NST8rq', 'spotify:track:4LytZJ7RAGP1ECmbxzEoIk', 'spotify:track:5wtvi39DRN6sNt7xypZJxl', 'spotify:track:7MVXZzxtB5n79LujrlCDQx', 'spotify:track:6jnweNpq9b9L7aKtZpU93s', 'spotify:track:5p7VnzdbMtn9OKJ1pLvRwW', 'spotify:track:2cSdAkzAf2T4j4aLvx4LLz', 'spotify:track:24F2rp6MRkq3UEwNMRoPJC', 'spotify:track:1dzQoRqT5ucxXVaAhTcT0J', 'spotify:track:14ZdGRgEojosST783o66CX', 'spotify:track:6xosBjlbUL4vjH8NpRf2ot', 'spotify:track:0yc6Gst2xkRu0eMLeRMGCX', 'spotify:track:6xosBjlbUL4vjH8NpRf2ot', 'spotify:track:7odPtdI4ClkmqovzOBH3Pf', 'spotify:track:2t0Ih7qpbuYQbJXgGmjRoL', 'spotify:track:1cSXzDZt8vzuUp2XREQEJN', 'spotify:track:1H78lTh1adDjmKXqBx6bY4', 'spotify:track:14qzig8cvFMvUVeCxbaO38']\n"
     ]
    }
   ],
   "source": [
    "songs_for_playlist = []\n",
    "\n",
    "for keyword in range(50):\n",
    "    newkeyword = random.choice(list_of_words)\n",
    "    #search for artist based on my keyword, only give me one artist\n",
    "    searchResults = sp.search(q=\"artist:\" + newkeyword, type=\"track\", limit=1)\n",
    "    if len(searchResults['tracks']['items'])>0:\n",
    "        songs_for_playlist.append(searchResults['tracks']['items'][0]['uri'])\n",
    "        \n",
    "print (songs_for_playlist)"
   ]
  },
  {
   "cell_type": "code",
   "execution_count": 70,
   "id": "0fdd4d0b",
   "metadata": {},
   "outputs": [
    {
     "name": "stdout",
     "output_type": "stream",
     "text": [
      "{'snapshot_id': 'Myw0MGE3ZDQzMDkyOWNjNjJkZjYzMTllMGQ4MWQ1MThiNTlhMjMzY2Nm'}\n"
     ]
    }
   ],
   "source": [
    "my_playlist = sp.user_playlist_create(user=username, name=\"Todays News\", public=True,\n",
    "                                      description=\"Songs for the news\")\n",
    "results = sp.user_playlist_add_tracks(username, my_playlist['id'], songs_for_playlist)\n",
    "print(results)"
   ]
  },
  {
   "cell_type": "code",
   "execution_count": 71,
   "id": "7908add6",
   "metadata": {},
   "outputs": [
    {
     "data": {
      "text/plain": [
       "True"
      ]
     },
     "execution_count": 71,
     "metadata": {},
     "output_type": "execute_result"
    }
   ],
   "source": [
    "webbrowser.open(my_playlist['external_urls']['spotify'])\n"
   ]
  },
  {
   "cell_type": "code",
   "execution_count": null,
   "id": "cf97350a",
   "metadata": {},
   "outputs": [],
   "source": []
  }
 ],
 "metadata": {
  "kernelspec": {
   "display_name": "Python 3 (ipykernel)",
   "language": "python",
   "name": "python3"
  },
  "language_info": {
   "codemirror_mode": {
    "name": "ipython",
    "version": 3
   },
   "file_extension": ".py",
   "mimetype": "text/x-python",
   "name": "python",
   "nbconvert_exporter": "python",
   "pygments_lexer": "ipython3",
   "version": "3.11.0"
  }
 },
 "nbformat": 4,
 "nbformat_minor": 5
}
